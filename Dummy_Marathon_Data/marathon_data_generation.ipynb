{
 "cells": [
  {
   "cell_type": "markdown",
   "id": "a978315f-ff05-4ce3-b7f2-c80477965386",
   "metadata": {},
   "source": [
    "# Generating Marathon Data for SQL Practice"
   ]
  },
  {
   "cell_type": "markdown",
   "id": "061494ac-77be-437f-bca8-b5b9e48fb830",
   "metadata": {},
   "source": [
    "This is a Python Jupyter notebook for creating a full mock SQL database of marathon race results with thousands of records. This script simulates a realistic dataset, including both elite and recreational runners, with varied performance data across multiple marathon events. There are several steps to this:"
   ]
  },
  {
   "cell_type": "markdown",
   "id": "3dc011f4-26f2-402b-8e67-949d23a90cd5",
   "metadata": {},
   "source": [
    "1. **Generate 'Runners' Table** - Randomly generate 1000 runners with names common in their locale/country, together with their birth date and sex.\n",
    "2. **Generate 'Events' Table** - The 6 Major World marathons (Berlin, Boston, Chicago,London,New York City, Tokyo), with an event per year from 2012 to 2023. \n",
    "3. **Generate 'Results' Table** - Gives results for runners in hh:mm:ss format, ensuring there aren't duplicate results for each runner per event. Prevents any results breaking either the male marathon world-record (2:00:35 Eliud Kipchoge 2023) or the female marathon world-record (2:11:53 Brigid Kosgei 2019). Also determines, with a True/False column, if a result is elite by the male standard (below 02:15:00) or the female standard (below 02:30:00).\n",
    "4. **Generate 'Sponsors' Table** - Lists the following 10 major fitness/sports companies that typically act as sponsors to runners - \"Nike\", \"Adidas\", \"Asics\", \"Saucony\", \"Hoka\",\"Brooks\", \"New Balance\", \"Puma\", \"Under Armour\", \"Tracksmith\". \n",
    "5. **Generate 'Sponsored Athletes' Table** - A table listing the fraction of the elite athletes that have a sponsor.\n",
    "6. **Generate 'Training Plans Descriptions' Table** - The descriptions of 10 different training plans and their respective lengths in weeks. \n",
    "7. **Generate 'Training Plans' Table** - The training plans of athletes. \n"
   ]
  },
  {
   "cell_type": "markdown",
   "id": "a1685db2-e9af-4864-906e-badff53273c4",
   "metadata": {},
   "source": [
    "## Import packages"
   ]
  },
  {
   "cell_type": "code",
   "execution_count": 5,
   "id": "79869662-4960-4f2f-9596-a48ada074178",
   "metadata": {},
   "outputs": [
    {
     "name": "stdout",
     "output_type": "stream",
     "text": [
      "Requirement already satisfied: faker in c:\\users\\gam55\\appdata\\local\\anaconda3\\lib\\site-packages (26.3.0)\n",
      "Requirement already satisfied: python-dateutil>=2.4 in c:\\users\\gam55\\appdata\\local\\anaconda3\\lib\\site-packages (from faker) (2.9.0.post0)\n",
      "Requirement already satisfied: six>=1.5 in c:\\users\\gam55\\appdata\\local\\anaconda3\\lib\\site-packages (from python-dateutil>=2.4->faker) (1.16.0)\n",
      "Note: you may need to restart the kernel to use updated packages.\n"
     ]
    }
   ],
   "source": [
    "pip install faker"
   ]
  },
  {
   "cell_type": "code",
   "execution_count": 6,
   "id": "183cfd07-a83f-49a6-9942-6f91e85f7f8a",
   "metadata": {},
   "outputs": [
    {
     "name": "stdout",
     "output_type": "stream",
     "text": [
      "Requirement already satisfied: unidecode in c:\\users\\gam55\\appdata\\local\\anaconda3\\lib\\site-packages (1.2.0)\n",
      "Note: you may need to restart the kernel to use updated packages.\n"
     ]
    }
   ],
   "source": [
    "pip install unidecode"
   ]
  },
  {
   "cell_type": "code",
   "execution_count": 7,
   "id": "95d1ba1a-e29a-41e9-ac9c-b6082ec74a9a",
   "metadata": {},
   "outputs": [],
   "source": [
    "import random\n",
    "from faker import Faker\n",
    "import datetime\n",
    "import pandas as pd"
   ]
  },
  {
   "cell_type": "code",
   "execution_count": 8,
   "id": "3c4c246e-1594-4e87-8807-3bd1b7d31572",
   "metadata": {},
   "outputs": [],
   "source": [
    "fake = Faker()"
   ]
  },
  {
   "cell_type": "markdown",
   "id": "eafa8418-8d26-45ba-aa23-94a837da30cf",
   "metadata": {},
   "source": [
    "## Define the records for tables and helper functions"
   ]
  },
  {
   "cell_type": "code",
   "execution_count": 10,
   "id": "934d028d-28fe-4bf9-b32b-7a6d14feb81c",
   "metadata": {},
   "outputs": [],
   "source": [
    "# Helper functions\n",
    "def random_time():\n",
    "    \"\"\"Generate a random marathon finish time\"\"\"\n",
    "    hours = random.randint(2, 5)\n",
    "    minutes = random.randint(0, 59)\n",
    "    seconds = random.randint(0, 59)\n",
    "    return f'{hours:02}:{minutes:02}:{seconds:02}'"
   ]
  },
  {
   "cell_type": "code",
   "execution_count": 11,
   "id": "cbba74f9-50da-4132-b978-957cd322e178",
   "metadata": {},
   "outputs": [],
   "source": [
    "# Define the number of records\n",
    "num_runners = 1000\n",
    "num_events = 12 # 12 for the 6 marathons over 2 years (2012-2023)\n",
    "num_results = num_runners * num_events\n",
    "num_sponsors = 100\n"
   ]
  },
  {
   "cell_type": "code",
   "execution_count": 12,
   "id": "8d2711b4-350b-41fa-b0ae-cd13680f0841",
   "metadata": {},
   "outputs": [],
   "source": [
    "# Define the major marathons and their exact dates\n",
    "marathons = [\n",
    "    (\"Boston Marathon\", [\n",
    "        \"2012-04-16\", \"2013-04-15\", \"2014-04-21\", \"2015-04-20\", \"2016-04-18\",\n",
    "        \"2017-04-17\", \"2018-04-16\", \"2019-04-15\", \"2020-10-11\", \"2021-10-11\",\n",
    "        \"2022-04-18\", \"2023-04-17\"\n",
    "    ]),\n",
    "    (\"London Marathon\", [\n",
    "        \"2012-04-22\", \"2013-04-21\", \"2014-04-21\", \"2015-04-26\", \"2016-04-24\",\n",
    "        \"2017-04-23\", \"2018-04-22\", \"2019-04-28\", \"2020-10-04\", \"2021-10-03\",\n",
    "        \"2022-10-02\", \"2023-04-23\"\n",
    "    ]),\n",
    "    (\"New York City Marathon\", [\n",
    "        \"2012-11-04\", \"2013-11-03\", \"2014-11-02\", \"2015-11-01\", \"2016-11-06\",\n",
    "        \"2017-11-05\", \"2018-11-04\", \"2019-11-03\", \"2020-12-13\", \"2021-11-07\",\n",
    "        \"2022-11-06\", \"2023-11-05\"\n",
    "    ]),\n",
    "    (\"Berlin Marathon\", [\n",
    "        \"2012-09-30\", \"2013-09-29\", \"2014-09-28\", \"2015-09-27\", \"2016-09-25\",\n",
    "        \"2017-09-24\", \"2018-09-16\", \"2019-09-29\", \"2020-09-27\", \"2021-09-26\",\n",
    "        \"2022-09-25\", \"2023-09-24\"\n",
    "    ]),\n",
    "    (\"Chicago Marathon\", [\n",
    "        \"2012-10-07\", \"2013-10-13\", \"2014-10-12\", \"2015-10-11\", \"2016-10-09\",\n",
    "        \"2017-10-08\", \"2018-10-07\", \"2019-10-13\", \"2020-10-11\", \"2021-10-10\",\n",
    "        \"2022-10-09\", \"2023-10-08\"\n",
    "    ]),\n",
    "    (\"Tokyo Marathon\", [\n",
    "        \"2012-02-26\", \"2013-02-24\", \"2014-02-23\", \"2015-02-22\", \"2016-02-28\",\n",
    "        \"2017-02-26\", \"2018-02-25\", \"2019-03-03\", \"2020-03-01\", \"2021-03-07\",\n",
    "        \"2022-03-06\", \"2023-03-05\"\n",
    "    ])\n",
    "]"
   ]
  },
  {
   "cell_type": "code",
   "execution_count": 13,
   "id": "ee812338-0061-494c-87b5-9855308f504c",
   "metadata": {},
   "outputs": [],
   "source": [
    "# Define predefined training plan descriptions\n",
    "training_plan_descriptions = [\n",
    "    \"Beginner Marathon Plan: 16-week build-up\",\n",
    "    \"Intermediate Marathon Plan: 12-week build-up\",\n",
    "    \"Advanced Marathon Plan: 18-week build-up\",\n",
    "    \"Elite Marathon Plan: 24-week build-up\",\n",
    "    \"5K to Marathon Transition Plan: 20-week build-up\",\n",
    "    \"Half-Marathon to Marathon Plan: 14-week build-up\",\n",
    "    \"Strength and Conditioning Focus Plan: 10-week build-up\",\n",
    "    \"Speed Work Focus Plan: 12-week build-up\",\n",
    "    \"Long Distance Endurance Focus Plan: 22-week build-up\",\n",
    "    \"Customized Marathon Plan: 16-week build-up\"\n",
    "]"
   ]
  },
  {
   "cell_type": "markdown",
   "id": "475a4b75-44e5-46b1-be9b-9b660f172725",
   "metadata": {},
   "source": [
    "## Generate Tables"
   ]
  },
  {
   "cell_type": "code",
   "execution_count": 15,
   "id": "14043bf8-5064-4436-b110-750051b90aa9",
   "metadata": {},
   "outputs": [
    {
     "name": "stdout",
     "output_type": "stream",
     "text": [
      "(1, 'Lucas', 'Tessier', datetime.date(1996, 1, 4), 'Male', 'Canada')\n",
      "(2, 'Andres', 'Koort', datetime.date(2004, 7, 15), 'Male', 'Estonia')\n",
      "(3, 'sumn', 'paanndde', datetime.date(1937, 8, 17), 'Male', 'Nepal')\n",
      "(4, 'AlySH`', 'khn', datetime.date(1970, 11, 23), 'Male', 'Israel')\n",
      "(5, 'Michaela', 'Cechova', datetime.date(1949, 1, 17), 'Female', 'Czech Republic')\n",
      "(6, 'Thomas', 'Beguelin', datetime.date(1956, 5, 8), 'Male', 'Switzerland')\n",
      "(7, 'Catherine', 'Medina', datetime.date(1963, 6, 27), 'Female', 'Jordan')\n",
      "(8, 'Nikandr', 'Nazarova', datetime.date(1984, 7, 11), 'Male', 'Russia')\n",
      "(9, 'Jake', 'McDonald', datetime.date(1974, 1, 9), 'Male', 'United Kingdom')\n",
      "(10, 'Cynthia', 'Hahn', datetime.date(1953, 12, 21), 'Female', 'Egypt')\n",
      "(11, 'Victoria', 'Green', datetime.date(1955, 9, 16), 'Female', 'New Zealand')\n",
      "(12, 'Alysh', 'SHlmh', datetime.date(1985, 12, 3), 'Female', 'Israel')\n",
      "(13, 'Titi', 'Namaga', datetime.date(1964, 9, 11), 'Female', 'Indonesia')\n",
      "(14, 'jyln', 'lzrqn', datetime.date(2002, 3, 6), 'Female', 'Arabic')\n",
      "(15, 'Geert', 'Huyghe', datetime.date(1952, 2, 10), 'Male', 'Belgium')\n",
      "(16, 'James', 'Chen', datetime.date(1994, 7, 16), 'Male', 'Bahrain')\n",
      "(17, 'Gmd', 'fTyr', datetime.date(1988, 6, 17), 'Male', 'Palestine')\n",
      "(18, 'Indranil', 'Toor', datetime.date(1995, 5, 19), 'Male', 'India')\n",
      "(19, 'Manuel', 'Altamirano', datetime.date(1982, 6, 28), 'Male', 'Chile')\n",
      "(20, 'Glenn', 'Comber', datetime.date(1954, 12, 29), 'Male', 'Ireland')\n",
      "(21, 'Abraham', 'Hernandes', datetime.date(1959, 11, 27), 'Female', 'Mexico')\n",
      "(22, 'John', 'Austin', datetime.date(1996, 8, 3), 'Male', 'Australia')\n",
      "(23, 'Juri', 'Raadik', datetime.date(1976, 2, 4), 'Male', 'Estonia')\n",
      "(24, 'Xin Hong ', 'Jin ', datetime.date(1938, 8, 18), 'Male', 'Taiwan')\n",
      "(25, 'Yassine', 'Louis', datetime.date(2005, 1, 25), 'Male', 'Belgium')\n",
      "(26, 'Aud', 'Hanssen', datetime.date(1995, 5, 13), 'Female', 'Norway')\n",
      "(27, 'Platon', 'Khristakopoulos', datetime.date(1952, 7, 19), 'Male', 'Greece')\n",
      "(28, 'Emilie', 'Hendrickx', datetime.date(1976, 4, 29), 'Female', 'Belgium')\n",
      "(29, 'Tao Zi ', 'Du Bian ', datetime.date(1981, 10, 3), 'Female', 'Japan')\n",
      "(30, 'Thiago', 'Martinez', datetime.date(1993, 11, 1), 'Male', 'Argentina')\n",
      "(31, 'cngkumaalai', 'pkumaannnynnn', datetime.date(1986, 10, 14), 'Female', 'India')\n",
      "(32, 'Charlene', 'Hall', datetime.date(1990, 7, 22), 'Female', 'United Arab Emirates')\n",
      "(33, 'Aylin', 'Koret', datetime.date(2003, 8, 28), 'Female', 'Netherlands')\n",
      "(34, 'Fernando', 'Corredor', datetime.date(1989, 7, 17), 'Male', 'Colombia')\n",
      "(35, 'Adam', 'Nita', datetime.date(1940, 9, 9), 'Male', 'Romania')\n",
      "(36, 'Michael', 'Brewer', datetime.date(1948, 9, 8), 'Male', 'Jordan')\n",
      "(37, 'Bryce', 'Rodriguez', datetime.date(1941, 10, 25), 'Male', 'Philippines')\n",
      "(38, 'Zhi ', 'Tai Tian ', datetime.date(1953, 12, 16), 'Male', 'Japan')\n",
      "(39, 'Henry Gabriel', 'Lima', datetime.date(1946, 6, 5), 'Male', 'Brazil')\n",
      "(40, 'Claudine', 'Leduc', datetime.date(1992, 8, 13), 'Female', 'Canada')\n",
      "(41, 'Melichar', 'Puskar', datetime.date(2003, 6, 20), 'Male', 'Slovakia')\n",
      "(42, 'Lungile', 'Ngungunyana', datetime.date(1986, 4, 17), 'Male', 'South Africa')\n",
      "(43, 'Frederick', 'Webb', datetime.date(1936, 6, 12), 'Male', 'United Kingdom')\n",
      "(44, 'Roland', 'Varga', datetime.date(1962, 2, 13), 'Male', 'Hungary')\n",
      "(45, 'lTwf', '`tyb@', datetime.date(2000, 7, 29), 'Male', 'Arabic')\n",
      "(46, 'Todd', 'Holt', datetime.date(1975, 6, 30), 'Male', 'Egypt')\n",
      "(47, 'Kurnia', 'Tamba', datetime.date(1956, 10, 24), 'Male', 'Indonesia')\n",
      "(48, 'Allan', 'Baxter', datetime.date(1970, 5, 2), 'Male', 'United Kingdom')\n",
      "(49, 'Chun Xiang ', 'Yi Teng ', datetime.date(1988, 9, 20), 'Female', 'Japan')\n",
      "(50, 'Lori', 'Mack', datetime.date(2000, 3, 6), 'Female', 'Australia')\n"
     ]
    }
   ],
   "source": [
    "import random\n",
    "from faker import Faker\n",
    "from unidecode import unidecode  # Import the unidecode function\n",
    "\n",
    "# Locale-country map dictionary\n",
    "locale_country_map = {\n",
    "    'ar_AA': 'Arabic',\n",
    "    'ar_AE': 'United Arab Emirates',\n",
    "    'ar_BH': 'Bahrain',\n",
    "    'ar_EG': 'Egypt',\n",
    "    'ar_JO': 'Jordan',\n",
    "    'ar_PS': 'Palestine',\n",
    "    'ar_SA': 'Saudi Arabia',\n",
    "    'az_AZ': 'Azerbaijan',\n",
    "    'bg_BG': 'Bulgaria',\n",
    "    'bn_BD': 'Bangladesh',\n",
    "    'bs_BA': 'Bosnia and Herzegovina',\n",
    "    'cs_CZ': 'Czech Republic',\n",
    "    'da_DK': 'Denmark',\n",
    "    'de_AT': 'Austria',\n",
    "    'de_CH': 'Switzerland',\n",
    "    'de_DE': 'Germany',\n",
    "    'el_CY': 'Cyprus',\n",
    "    'el_GR': 'Greece',\n",
    "    'en_AU': 'Australia',\n",
    "    'en_CA': 'Canada',\n",
    "    'en_GB': 'United Kingdom',\n",
    "    'en_IE': 'Ireland',\n",
    "    'en_IN': 'India',\n",
    "    'en_NZ': 'New Zealand',\n",
    "    'en_PH': 'Philippines',\n",
    "    'en_US': 'United States',\n",
    "    'es_AR': 'Argentina',\n",
    "    'es_CL': 'Chile',\n",
    "    'es_CO': 'Colombia',\n",
    "    'es_ES': 'Spain',\n",
    "    'es_MX': 'Mexico',\n",
    "    'et_EE': 'Estonia',\n",
    "    'fa_IR': 'Iran',\n",
    "    'fi_FI': 'Finland',\n",
    "    'fr_BE': 'Belgium',\n",
    "    'fr_CA': 'Canada',\n",
    "    'fr_CH': 'Switzerland',\n",
    "    'fr_FR': 'France',\n",
    "    'ga_IE': 'Ireland',\n",
    "    'he_IL': 'Israel',\n",
    "    'hi_IN': 'India',\n",
    "    'hr_HR': 'Croatia',\n",
    "    'hu_HU': 'Hungary',\n",
    "    'hy_AM': 'Armenia',\n",
    "    'id_ID': 'Indonesia',\n",
    "    'it_CH': 'Switzerland',\n",
    "    'it_IT': 'Italy',\n",
    "    'ja_JP': 'Japan',\n",
    "    'ka_GE': 'Georgia',\n",
    "    'ko_KR': 'South Korea',\n",
    "    'lb_LU': 'Luxembourg',\n",
    "    'lt_LT': 'Lithuania',\n",
    "    'lv_LV': 'Latvia',\n",
    "    'ne_NP': 'Nepal',\n",
    "    'nl_BE': 'Belgium',\n",
    "    'nl_NL': 'Netherlands',\n",
    "    'no_NO': 'Norway',\n",
    "    'pl_PL': 'Poland',\n",
    "    'pt_BR': 'Brazil',\n",
    "    'pt_PT': 'Portugal',\n",
    "    'ro_RO': 'Romania',\n",
    "    'ru_RU': 'Russia',\n",
    "    'sk_SK': 'Slovakia',\n",
    "    'sl_SI': 'Slovenia',\n",
    "    'sq_AL': 'Albania',\n",
    "    'sv_SE': 'Sweden',\n",
    "    'ta_IN': 'India',\n",
    "    'th_TH': 'Thailand',\n",
    "    'tr_TR': 'Turkey',\n",
    "    'uk_UA': 'Ukraine',\n",
    "    'vi_VN': 'Vietnam',\n",
    "    'zh_CN': 'China',\n",
    "    'zh_TW': 'Taiwan',\n",
    "    'zu_ZA': 'South Africa'\n",
    "}\n",
    "\n",
    "# Number of runners to generate\n",
    "num_runners = 100  # Example number\n",
    "\n",
    "# Generate Runners Table\n",
    "runners = []\n",
    "for i in range(1, num_runners + 1):\n",
    "    # Randomly select a category for each runner\n",
    "    category = random.choice(['Male', 'Female'])\n",
    "    \n",
    "    # Randomly select a locale corresponding to a country\n",
    "    locale, country = random.choice(list(locale_country_map.items()))\n",
    "    \n",
    "    # Create a Faker instance with the selected locale\n",
    "    localized_fake = Faker(locale)\n",
    "    \n",
    "    # Generate the runner's name and transliterate it to standard ASCII characters\n",
    "    first_name = localized_fake.first_name_male() if category == 'Male' else localized_fake.first_name_female()\n",
    "    last_name = localized_fake.last_name()\n",
    "\n",
    "    # Transliterate names to ASCII\n",
    "    first_name_ascii = unidecode(first_name)\n",
    "    last_name_ascii = unidecode(last_name)\n",
    "    \n",
    "    # Generate the runner data\n",
    "    runners.append((\n",
    "        i,\n",
    "        first_name_ascii,\n",
    "        last_name_ascii,\n",
    "        localized_fake.date_of_birth(minimum_age=18, maximum_age=90),\n",
    "        category,  # Assign the randomly chosen category\n",
    "        country\n",
    "    ))\n",
    "\n",
    "# Example output\n",
    "for runner in runners[:50]:  # Print first 50 runners\n",
    "    print(runner)\n",
    "\n"
   ]
  },
  {
   "cell_type": "code",
   "execution_count": 16,
   "id": "653ace64-3c0e-4cd1-826c-37ba63783f89",
   "metadata": {},
   "outputs": [
    {
     "name": "stdout",
     "output_type": "stream",
     "text": [
      "Unique countries: {'Jordan', 'United Kingdom', 'Thailand', 'Japan', 'Egypt', 'United Arab Emirates', 'Netherlands', 'Bahrain', 'Cyprus', 'China', 'Vietnam', 'Palestine', 'Romania', 'Sweden', 'Chile', 'Bulgaria', 'South Korea', 'Arabic', 'Albania', 'Bosnia and Herzegovina', 'Canada', 'Argentina', 'Russia', 'France', 'Nepal', 'Czech Republic', 'Norway', 'Austria', 'Ireland', 'Switzerland', 'Israel', 'Colombia', 'New Zealand', 'Taiwan', 'Slovakia', 'Brazil', 'Mexico', 'South Africa', 'United States', 'Portugal', 'Philippines', 'Hungary', 'Luxembourg', 'Greece', 'Estonia', 'Australia', 'Belgium', 'Saudi Arabia', 'India', 'Indonesia'}\n"
     ]
    }
   ],
   "source": [
    "unique_countries = set(runner[5] for runner in runners)\n",
    "print(\"Unique countries:\", unique_countries)"
   ]
  },
  {
   "cell_type": "code",
   "execution_count": 17,
   "id": "df0e6c13-8c66-4a96-ab73-8c92b826c0d0",
   "metadata": {},
   "outputs": [
    {
     "name": "stdout",
     "output_type": "stream",
     "text": [
      "[(1, 'Lucas', 'Tessier', datetime.date(1996, 1, 4), 'Male', 'Canada'), (2, 'Andres', 'Koort', datetime.date(2004, 7, 15), 'Male', 'Estonia'), (3, 'sumn', 'paanndde', datetime.date(1937, 8, 17), 'Male', 'Nepal'), (4, 'AlySH`', 'khn', datetime.date(1970, 11, 23), 'Male', 'Israel'), (5, 'Michaela', 'Cechova', datetime.date(1949, 1, 17), 'Female', 'Czech Republic'), (6, 'Thomas', 'Beguelin', datetime.date(1956, 5, 8), 'Male', 'Switzerland'), (7, 'Catherine', 'Medina', datetime.date(1963, 6, 27), 'Female', 'Jordan'), (8, 'Nikandr', 'Nazarova', datetime.date(1984, 7, 11), 'Male', 'Russia'), (9, 'Jake', 'McDonald', datetime.date(1974, 1, 9), 'Male', 'United Kingdom'), (10, 'Cynthia', 'Hahn', datetime.date(1953, 12, 21), 'Female', 'Egypt')]\n"
     ]
    }
   ],
   "source": [
    "print(runners[:10])"
   ]
  },
  {
   "cell_type": "code",
   "execution_count": 18,
   "id": "426dc419-4c92-4da7-b118-22448d5d5445",
   "metadata": {},
   "outputs": [
    {
     "name": "stdout",
     "output_type": "stream",
     "text": [
      "(6, 'Thomas', 'Beguelin', datetime.date(1956, 5, 8), 'Male', 'Switzerland')\n"
     ]
    }
   ],
   "source": [
    "runners_countries = runners[5]\n",
    "print(runners_countries)"
   ]
  },
  {
   "cell_type": "code",
   "execution_count": 19,
   "id": "7c24d566-c51d-4002-a8d3-5e9a7d1537d8",
   "metadata": {},
   "outputs": [],
   "source": [
    "# Generate Events Table\n",
    "events = []\n",
    "event_id = 1\n",
    "for marathon_name, dates in marathons:\n",
    "    for event_date in dates:\n",
    "        events.append((\n",
    "            event_id,\n",
    "            marathon_name,\n",
    "            datetime.datetime.strptime(event_date, \"%Y-%m-%d\").date()  # Ensure event_date is a datetime.date object \n",
    "        ))\n",
    "        event_id += 1"
   ]
  },
  {
   "cell_type": "code",
   "execution_count": 20,
   "id": "f13d1f3d-ff42-4503-a147-7dc9e7e7c2ad",
   "metadata": {},
   "outputs": [
    {
     "name": "stdout",
     "output_type": "stream",
     "text": [
      "[(1, 'Boston Marathon', datetime.date(2012, 4, 16)), (2, 'Boston Marathon', datetime.date(2013, 4, 15)), (3, 'Boston Marathon', datetime.date(2014, 4, 21)), (4, 'Boston Marathon', datetime.date(2015, 4, 20)), (5, 'Boston Marathon', datetime.date(2016, 4, 18)), (6, 'Boston Marathon', datetime.date(2017, 4, 17)), (7, 'Boston Marathon', datetime.date(2018, 4, 16)), (8, 'Boston Marathon', datetime.date(2019, 4, 15)), (9, 'Boston Marathon', datetime.date(2020, 10, 11)), (10, 'Boston Marathon', datetime.date(2021, 10, 11)), (11, 'Boston Marathon', datetime.date(2022, 4, 18)), (12, 'Boston Marathon', datetime.date(2023, 4, 17)), (13, 'London Marathon', datetime.date(2012, 4, 22)), (14, 'London Marathon', datetime.date(2013, 4, 21)), (15, 'London Marathon', datetime.date(2014, 4, 21)), (16, 'London Marathon', datetime.date(2015, 4, 26)), (17, 'London Marathon', datetime.date(2016, 4, 24)), (18, 'London Marathon', datetime.date(2017, 4, 23)), (19, 'London Marathon', datetime.date(2018, 4, 22)), (20, 'London Marathon', datetime.date(2019, 4, 28)), (21, 'London Marathon', datetime.date(2020, 10, 4)), (22, 'London Marathon', datetime.date(2021, 10, 3)), (23, 'London Marathon', datetime.date(2022, 10, 2)), (24, 'London Marathon', datetime.date(2023, 4, 23)), (25, 'New York City Marathon', datetime.date(2012, 11, 4)), (26, 'New York City Marathon', datetime.date(2013, 11, 3)), (27, 'New York City Marathon', datetime.date(2014, 11, 2)), (28, 'New York City Marathon', datetime.date(2015, 11, 1)), (29, 'New York City Marathon', datetime.date(2016, 11, 6)), (30, 'New York City Marathon', datetime.date(2017, 11, 5)), (31, 'New York City Marathon', datetime.date(2018, 11, 4)), (32, 'New York City Marathon', datetime.date(2019, 11, 3)), (33, 'New York City Marathon', datetime.date(2020, 12, 13)), (34, 'New York City Marathon', datetime.date(2021, 11, 7)), (35, 'New York City Marathon', datetime.date(2022, 11, 6)), (36, 'New York City Marathon', datetime.date(2023, 11, 5)), (37, 'Berlin Marathon', datetime.date(2012, 9, 30)), (38, 'Berlin Marathon', datetime.date(2013, 9, 29)), (39, 'Berlin Marathon', datetime.date(2014, 9, 28)), (40, 'Berlin Marathon', datetime.date(2015, 9, 27)), (41, 'Berlin Marathon', datetime.date(2016, 9, 25)), (42, 'Berlin Marathon', datetime.date(2017, 9, 24)), (43, 'Berlin Marathon', datetime.date(2018, 9, 16)), (44, 'Berlin Marathon', datetime.date(2019, 9, 29)), (45, 'Berlin Marathon', datetime.date(2020, 9, 27)), (46, 'Berlin Marathon', datetime.date(2021, 9, 26)), (47, 'Berlin Marathon', datetime.date(2022, 9, 25)), (48, 'Berlin Marathon', datetime.date(2023, 9, 24)), (49, 'Chicago Marathon', datetime.date(2012, 10, 7)), (50, 'Chicago Marathon', datetime.date(2013, 10, 13)), (51, 'Chicago Marathon', datetime.date(2014, 10, 12)), (52, 'Chicago Marathon', datetime.date(2015, 10, 11)), (53, 'Chicago Marathon', datetime.date(2016, 10, 9)), (54, 'Chicago Marathon', datetime.date(2017, 10, 8)), (55, 'Chicago Marathon', datetime.date(2018, 10, 7)), (56, 'Chicago Marathon', datetime.date(2019, 10, 13)), (57, 'Chicago Marathon', datetime.date(2020, 10, 11)), (58, 'Chicago Marathon', datetime.date(2021, 10, 10)), (59, 'Chicago Marathon', datetime.date(2022, 10, 9)), (60, 'Chicago Marathon', datetime.date(2023, 10, 8)), (61, 'Tokyo Marathon', datetime.date(2012, 2, 26)), (62, 'Tokyo Marathon', datetime.date(2013, 2, 24)), (63, 'Tokyo Marathon', datetime.date(2014, 2, 23)), (64, 'Tokyo Marathon', datetime.date(2015, 2, 22)), (65, 'Tokyo Marathon', datetime.date(2016, 2, 28)), (66, 'Tokyo Marathon', datetime.date(2017, 2, 26)), (67, 'Tokyo Marathon', datetime.date(2018, 2, 25)), (68, 'Tokyo Marathon', datetime.date(2019, 3, 3)), (69, 'Tokyo Marathon', datetime.date(2020, 3, 1)), (70, 'Tokyo Marathon', datetime.date(2021, 3, 7)), (71, 'Tokyo Marathon', datetime.date(2022, 3, 6)), (72, 'Tokyo Marathon', datetime.date(2023, 3, 5))]\n"
     ]
    }
   ],
   "source": [
    "print(events)"
   ]
  },
  {
   "cell_type": "code",
   "execution_count": 21,
   "id": "b616520d-75bb-4976-b57b-2f248a937909",
   "metadata": {},
   "outputs": [],
   "source": [
    "# Generate Results Table\n",
    "results = []\n",
    "assigned_pairs = set()  # Set to keep track of assigned (runner_id, event_id) pairs"
   ]
  },
  {
   "cell_type": "code",
   "execution_count": 22,
   "id": "4dfbc69b-8286-408b-a3cc-022ce3f1bab4",
   "metadata": {},
   "outputs": [
    {
     "name": "stdout",
     "output_type": "stream",
     "text": [
      "Could not find a unique (runner_id, event_id) pair after 100 attempts. Exiting loop.\n",
      "(1, 1, 17, '05:48:19', 869, 'Male', 'False')\n",
      "(2, 2, 24, '05:50:22', 3725, 'Male', 'False')\n",
      "(3, 3, 4, '02:55:26', 4983, 'Male', 'False')\n",
      "(4, 4, 70, '02:47:49', 1741, 'Female', 'False')\n",
      "(5, 5, 35, '04:09:33', 2008, 'Male', 'False')\n",
      "(6, 6, 86, '04:28:42', 4362, 'Female', 'False')\n",
      "(7, 7, 69, '03:44:18', 4217, 'Male', 'False')\n",
      "(8, 8, 45, '02:05:39', 4375, 'Male', 'True')\n",
      "(9, 9, 45, '02:09:20', 3227, 'Male', 'False')\n",
      "(10, 10, 18, '03:51:34', 1654, 'Male', 'False')\n",
      "(11, 11, 81, '02:40:29', 4865, 'Male', 'False')\n",
      "(12, 12, 11, '04:36:46', 1674, 'Female', 'False')\n",
      "(13, 1, 55, '02:15:50', 911, 'Male', 'False')\n",
      "(14, 2, 95, '05:09:16', 4537, 'Male', 'False')\n",
      "(15, 3, 95, '02:55:28', 4062, 'Male', 'False')\n",
      "(16, 4, 24, '02:01:32', 360, 'Male', 'True')\n",
      "(17, 5, 62, '02:24:14', 4783, 'Male', 'False')\n",
      "(18, 6, 89, '03:19:08', 559, 'Male', 'False')\n",
      "(19, 7, 21, '05:59:51', 4589, 'Female', 'False')\n",
      "(20, 8, 46, '05:28:12', 3119, 'Male', 'False')\n",
      "(21, 9, 64, '03:13:42', 4895, 'Male', 'False')\n",
      "(22, 10, 94, '04:11:06', 353, 'Male', 'False')\n",
      "(23, 11, 68, '02:31:30', 1278, 'Male', 'False')\n",
      "(24, 12, 6, '03:10:59', 822, 'Male', 'False')\n",
      "(25, 1, 21, '03:22:20', 1767, 'Female', 'False')\n",
      "(26, 2, 93, '02:18:42', 4995, 'Male', 'False')\n",
      "(27, 3, 100, '02:08:59', 2785, 'Male', 'True')\n",
      "(28, 4, 31, '04:47:47', 2588, 'Female', 'False')\n",
      "(29, 5, 100, '05:32:03', 2742, 'Male', 'False')\n",
      "(30, 6, 17, '04:39:11', 686, 'Male', 'False')\n",
      "(31, 7, 18, '02:31:17', 535, 'Male', 'False')\n",
      "(32, 8, 7, '04:56:30', 4332, 'Female', 'False')\n",
      "(33, 9, 5, '04:17:20', 4077, 'Female', 'False')\n",
      "(34, 10, 55, '05:32:33', 3726, 'Male', 'False')\n",
      "(35, 11, 72, '05:55:56', 1114, 'Male', 'False')\n",
      "(36, 12, 37, '05:59:06', 1403, 'Male', 'False')\n",
      "(37, 1, 63, '02:50:49', 2904, 'Female', 'False')\n",
      "(38, 2, 50, '04:05:18', 1940, 'Female', 'False')\n",
      "(39, 3, 48, '03:15:24', 2346, 'Male', 'False')\n",
      "(40, 4, 40, '05:26:51', 4354, 'Female', 'False')\n",
      "(41, 5, 47, '02:32:24', 2443, 'Male', 'False')\n",
      "(42, 6, 16, '03:48:33', 4421, 'Male', 'False')\n",
      "(43, 7, 57, '04:42:37', 1859, 'Female', 'False')\n",
      "(44, 8, 61, '04:39:02', 166, 'Female', 'False')\n",
      "(45, 9, 66, '02:25:56', 2632, 'Male', 'False')\n",
      "(46, 10, 27, '03:31:17', 3754, 'Male', 'False')\n",
      "(47, 11, 92, '04:38:53', 4672, 'Female', 'False')\n",
      "(48, 12, 52, '04:38:46', 4766, 'Male', 'False')\n",
      "(49, 1, 38, '05:39:37', 3883, 'Male', 'False')\n",
      "(50, 2, 98, '02:48:35', 3976, 'Male', 'False')\n",
      "(51, 3, 3, '02:16:45', 4376, 'Male', 'False')\n",
      "(52, 4, 20, '05:23:51', 1588, 'Male', 'False')\n",
      "(53, 5, 83, '02:29:38', 2367, 'Male', 'False')\n",
      "(54, 6, 15, '03:28:55', 4288, 'Male', 'False')\n",
      "(55, 7, 79, '05:20:46', 977, 'Male', 'False')\n",
      "(56, 8, 85, '04:59:20', 2013, 'Male', 'False')\n",
      "(57, 9, 87, '05:58:14', 981, 'Male', 'False')\n",
      "(58, 10, 13, '04:31:20', 2648, 'Female', 'False')\n",
      "(59, 11, 87, '04:46:04', 2104, 'Male', 'False')\n",
      "(60, 12, 66, '05:14:57', 833, 'Male', 'False')\n",
      "(61, 1, 66, '04:00:55', 316, 'Male', 'False')\n",
      "(62, 2, 80, '05:54:39', 2706, 'Female', 'False')\n",
      "(63, 3, 85, '05:36:34', 2244, 'Male', 'False')\n",
      "(64, 4, 93, '05:00:38', 3993, 'Male', 'False')\n",
      "(65, 5, 74, '02:32:10', 4999, 'Male', 'False')\n",
      "(66, 6, 72, '02:09:48', 392, 'Male', 'False')\n",
      "(67, 7, 74, '05:37:50', 2406, 'Male', 'False')\n",
      "(68, 8, 43, '02:42:09', 663, 'Male', 'False')\n",
      "(69, 9, 4, '02:08:21', 4202, 'Male', 'True')\n",
      "(70, 10, 100, '02:06:17', 4915, 'Male', 'True')\n",
      "(71, 11, 75, '03:55:57', 3610, 'Male', 'False')\n",
      "(72, 12, 22, '03:25:55', 949, 'Male', 'False')\n",
      "(73, 1, 24, '03:02:37', 4301, 'Male', 'False')\n",
      "(74, 2, 23, '05:55:51', 4065, 'Male', 'False')\n",
      "(75, 3, 43, '02:26:58', 1996, 'Male', 'False')\n",
      "(76, 4, 83, '03:57:06', 4395, 'Male', 'False')\n",
      "(77, 5, 79, '05:18:51', 4368, 'Male', 'False')\n",
      "(78, 6, 77, '02:32:09', 3077, 'Male', 'False')\n",
      "(79, 7, 83, '04:10:55', 2966, 'Male', 'False')\n",
      "(80, 8, 83, '04:08:49', 2083, 'Male', 'False')\n",
      "(81, 9, 37, '04:51:28', 3878, 'Male', 'False')\n",
      "(82, 10, 67, '02:54:52', 1884, 'Female', 'False')\n",
      "(83, 11, 23, '03:53:07', 1949, 'Male', 'False')\n",
      "(84, 12, 62, '05:17:54', 1968, 'Male', 'False')\n",
      "(85, 1, 18, '04:05:31', 3835, 'Male', 'False')\n",
      "(86, 2, 27, '02:33:06', 2097, 'Male', 'False')\n",
      "(87, 3, 91, '04:26:52', 58, 'Female', 'False')\n",
      "(88, 4, 34, '02:51:07', 2237, 'Male', 'False')\n",
      "(89, 5, 27, '02:36:28', 1204, 'Male', 'False')\n",
      "(90, 6, 69, '05:11:28', 916, 'Male', 'False')\n",
      "(91, 7, 54, '03:45:36', 1612, 'Male', 'False')\n",
      "(92, 8, 16, '02:54:23', 1131, 'Male', 'False')\n",
      "(93, 9, 78, '05:53:35', 4059, 'Male', 'False')\n",
      "(94, 10, 65, '05:06:23', 2300, 'Male', 'False')\n",
      "(95, 11, 43, '04:27:40', 3961, 'Male', 'False')\n",
      "(96, 12, 54, '02:13:53', 4197, 'Male', 'False')\n",
      "(97, 1, 93, '03:03:50', 3537, 'Male', 'False')\n",
      "(98, 2, 44, '03:42:33', 1812, 'Male', 'False')\n",
      "(99, 3, 70, '05:16:40', 1738, 'Female', 'False')\n",
      "(100, 4, 91, '03:37:42', 4112, 'Female', 'False')\n"
     ]
    }
   ],
   "source": [
    "assigned_pairs = set()\n",
    "\n",
    "# World record times in hours: minutes: seconds\n",
    "mens_world_record = 2 + 0 + 35/3600   # 2:00:35 Eliud Kipchoge Marathon 2023 WR \n",
    "womens_world_record = 2 + 11/60 + 53/3600  # 2:11:53 Brigid Kosgei 2019 WR\n",
    "\n",
    "for i in range(1, num_results + 1):\n",
    "    # Limit the number of attempts to find a unique (runner_id, event_id) pair\n",
    "    attempts = 0\n",
    "    max_attempts = 100  # Adjust this number as needed\n",
    "    unique_pair_found = False\n",
    "    \n",
    "    while attempts < max_attempts:\n",
    "        runner_id = random.randint(1, num_runners)\n",
    "        event_id = ((i - 1) % num_events) + 1\n",
    "        \n",
    "        if (runner_id, event_id) not in assigned_pairs:\n",
    "            assigned_pairs.add((runner_id, event_id))  # Record the (runner_id, event_id) pair\n",
    "            unique_pair_found = True\n",
    "            break\n",
    "        \n",
    "        attempts += 1\n",
    "    \n",
    "    if not unique_pair_found:\n",
    "        print(f\"Could not find a unique (runner_id, event_id) pair after {max_attempts} attempts. Exiting loop.\")\n",
    "        break\n",
    "    \n",
    "    # Get the runner details\n",
    "    runner = next(r for r in runners if r[0] == runner_id)\n",
    "    finish_time = random_time()\n",
    "    position = random.randint(1, 5000)\n",
    "    category = runner[4]  # Use the runner's category from the runners table\n",
    "    is_elite = 'False'\n",
    "    \n",
    "    # Convert finish_time to hours (float)\n",
    "    hours = int(finish_time[:2]) + int(finish_time[3:5])/60 + int(finish_time[6:])/3600  # Assumes 'HH:MM:SS' format\n",
    "    \n",
    "    # Adjust finish time if it breaks the world record\n",
    "    if category == 'Male' and hours < mens_world_record:\n",
    "        finish_time = \"02:01:10\"  # Slightly slower than the men's world record\n",
    "    elif category == 'Female' and hours < womens_world_record:\n",
    "        finish_time = \"02:11:54\"  # Slightly slower than the women's world record\n",
    "    \n",
    "    # Determine if the runner's finish time is elite\n",
    "    if category == 'Male' and hours < 2.15:\n",
    "        is_elite = 'True'\n",
    "    elif category == 'Female' and hours < 2.30:\n",
    "        is_elite = 'True'\n",
    "    \n",
    "    results.append((\n",
    "        i,\n",
    "        event_id,\n",
    "        runner_id,\n",
    "        finish_time,\n",
    "        position,\n",
    "        category,\n",
    "        is_elite\n",
    "    ))\n",
    "\n",
    "# Check results\n",
    "for result in results[:100]:\n",
    "    print(result[:10])\n"
   ]
  },
  {
   "cell_type": "code",
   "execution_count": 23,
   "id": "a6703598-879c-4940-ae6b-4b130490377b",
   "metadata": {},
   "outputs": [
    {
     "name": "stdout",
     "output_type": "stream",
     "text": [
      "Verification passed: No runner has participated in the same event more than once.\n"
     ]
    }
   ],
   "source": [
    "# Verify that no runner has participated in the same event more than once\n",
    "duplicates = [(runner_id, event_id) for (runner_id, event_id) in assigned_pairs]\n",
    "if len(duplicates) != len(assigned_pairs):\n",
    "    print(\"Error: A runner has participated in the same event more than once.\")\n",
    "else:\n",
    "    print(\"Verification passed: No runner has participated in the same event more than once.\")\n"
   ]
  },
  {
   "cell_type": "code",
   "execution_count": 24,
   "id": "78706c52-8fc2-45d0-ba01-f45b31cd85ab",
   "metadata": {},
   "outputs": [],
   "source": [
    "# Identify elite runners based on the 'results' table\n",
    "elite_runners = [runner_id for runner_id, _, _, _, _, _, is_elite in results if is_elite == 'True']"
   ]
  },
  {
   "cell_type": "code",
   "execution_count": 25,
   "id": "cff6cc75-ce9d-48d8-bf21-d45f04540db9",
   "metadata": {},
   "outputs": [
    {
     "name": "stdout",
     "output_type": "stream",
     "text": [
      "[8, 16, 27, 69, 70, 120, 158, 197, 251, 279, 288, 300, 310, 313, 331, 341, 384, 389, 398, 424, 428, 436, 460, 497, 500, 503, 532, 533, 535, 548, 561, 643, 656, 660, 665, 695, 715, 718, 731, 791, 823, 826, 853, 870, 903, 910, 912, 922, 932, 1001, 1035, 1047, 1049, 1053, 1069, 1081, 1104, 1122]\n"
     ]
    }
   ],
   "source": [
    "print(elite_runners)"
   ]
  },
  {
   "cell_type": "code",
   "execution_count": 26,
   "id": "c86c8ffc-3819-4313-8b8a-804480c12525",
   "metadata": {},
   "outputs": [
    {
     "name": "stdout",
     "output_type": "stream",
     "text": [
      "Verification Passed: No runner appears more than once in the sponsors table.\n"
     ]
    }
   ],
   "source": [
    "# Generate Sponsors Table \n",
    "sponsors = [\n",
    "    \"Nike\", \"Adidas\", \"Asics\", \"Saucony\", \"Hoka\",\n",
    "    \"Brooks\", \"New Balance\", \"Puma\", \"Under Armour\", \"Tracksmith\"\n",
    "]\n",
    "\n",
    "# Select 50% of elite runners to have sponsors\n",
    "sponsored_runners = random.sample(elite_runners, len(elite_runners) // 2)\n",
    "\n",
    "# Generate Sponsors Athletes Table\n",
    "sponsored_athletes = []\n",
    "used_sponsors = set()  # To keep track of assigned sponsors\n",
    "\n",
    "for i, runner_id in enumerate(sponsored_runners, start=1):\n",
    "    sponsor_name = random.choice(sponsors)\n",
    "    \n",
    "    # Ensure the runner doesn't already have a sponsor\n",
    "    while runner_id in used_sponsors:\n",
    "        runner_id = random.choice(sponsored_runners)\n",
    "    \n",
    "    sponsored_athletes.append((\n",
    "        i,\n",
    "        sponsor_name,\n",
    "        runner_id\n",
    "    ))\n",
    "    \n",
    "    # Mark this runner as having a sponsor\n",
    "    used_sponsors.add(runner_id)\n",
    "\n",
    "# Verification code to check if any runner appears more than once\n",
    "runner_ids = [data[2] for data in sponsored_athletes]\n",
    "duplicate_runners = set([runner_id for runner_id in runner_ids if runner_ids.count(runner_id) > 1])\n",
    "\n",
    "if len(duplicate_runners) == 0:\n",
    "    print(\"Verification Passed: No runner appears more than once in the sponsors table.\")\n",
    "else:\n",
    "    print(f\"Verification Failed: The following runners have multiple sponsors: {duplicate_runners}\")\n"
   ]
  },
  {
   "cell_type": "code",
   "execution_count": 27,
   "id": "9cb7404c-6d79-43e5-9700-a4c150e56aac",
   "metadata": {},
   "outputs": [
    {
     "name": "stdout",
     "output_type": "stream",
     "text": [
      "[(1, 'Nike', 853), (2, 'Asics', 912), (3, 'Under Armour', 300), (4, 'Puma', 398), (5, 'Nike', 197), (6, 'Hoka', 910), (7, 'Brooks', 428), (8, 'New Balance', 341), (9, 'Adidas', 384), (10, 'Brooks', 870), (11, 'Tracksmith', 69), (12, 'Brooks', 1001), (13, 'Adidas', 903), (14, 'Brooks', 288), (15, 'Brooks', 826), (16, 'Asics', 548), (17, 'Brooks', 1081), (18, 'Under Armour', 561), (19, 'Tracksmith', 331), (20, 'Tracksmith', 731), (21, 'Brooks', 932), (22, 'Hoka', 310), (23, 'Brooks', 389), (24, 'Puma', 660), (25, 'Adidas', 8), (26, 'Puma', 158), (27, 'Saucony', 313), (28, 'Saucony', 1047), (29, 'Nike', 279)]\n"
     ]
    }
   ],
   "source": [
    "print(sponsored_athletes)"
   ]
  },
  {
   "cell_type": "code",
   "execution_count": 28,
   "id": "1fdc9be8-076d-4829-8fcc-1f9a4278d61f",
   "metadata": {},
   "outputs": [
    {
     "name": "stdout",
     "output_type": "stream",
     "text": [
      "[(1, 'Nike'), (2, 'Adidas'), (3, 'Asics'), (4, 'Saucony'), (5, 'Hoka'), (6, 'Brooks'), (7, 'New Balance'), (8, 'Puma'), (9, 'Under Armour'), (10, 'Tracksmith')]\n"
     ]
    }
   ],
   "source": [
    "# Generate Sponsors Table\n",
    "sponsors = [\n",
    "    (1, \"Nike\"),\n",
    "    (2, \"Adidas\"),\n",
    "    (3, \"Asics\"),\n",
    "    (4, \"Saucony\"),\n",
    "    (5, \"Hoka\"),\n",
    "    (6, \"Brooks\"),\n",
    "    (7, \"New Balance\"),\n",
    "    (8, \"Puma\"),\n",
    "    (9, \"Under Armour\"),\n",
    "    (10, \"Tracksmith\")\n",
    "]\n",
    "print(sponsors)"
   ]
  },
  {
   "cell_type": "code",
   "execution_count": 29,
   "id": "ac26baad-925a-4541-9a5f-bb6018ef2680",
   "metadata": {},
   "outputs": [],
   "source": [
    "training_plan_durations = {\n",
    "    \"Beginner Marathon Plan: 16-week build-up\": 16,\n",
    "    \"Intermediate Marathon Plan: 12-week build-up\": 12,\n",
    "    \"Advanced Marathon Plan: 18-week build-up\": 18,\n",
    "    \"Elite Marathon Plan: 24-week build-up\": 24,\n",
    "    \"5K to Marathon Transition Plan: 20-week build-up\": 20,\n",
    "    \"Half-Marathon to Marathon Plan: 14-week build-up\": 14,\n",
    "    \"Strength and Conditioning Focus Plan: 10-week build-up\": 10,\n",
    "    \"Speed Work Focus Plan: 12-week build-up\": 12,\n",
    "    \"Long Distance Endurance Focus Plan: 22-week build-up\": 22,\n",
    "    \"Customized Marathon Plan: 16-week build-up\": 16\n",
    "}"
   ]
  },
  {
   "cell_type": "code",
   "execution_count": 30,
   "id": "55d922b0-0d07-4c37-884f-2d5cbbfe36d7",
   "metadata": {},
   "outputs": [
    {
     "name": "stdout",
     "output_type": "stream",
     "text": [
      "[(1, 'Beginner Marathon Plan: 16-week build-up', 16), (2, 'Intermediate Marathon Plan: 12-week build-up', 12), (3, 'Advanced Marathon Plan: 18-week build-up', 18), (4, 'Elite Marathon Plan: 24-week build-up', 24), (5, '5K to Marathon Transition Plan: 20-week build-up', 20), (6, 'Half-Marathon to Marathon Plan: 14-week build-up', 14), (7, 'Strength and Conditioning Focus Plan: 10-week build-up', 10), (8, 'Speed Work Focus Plan: 12-week build-up', 12), (9, 'Long Distance Endurance Focus Plan: 22-week build-up', 22), (10, 'Customized Marathon Plan: 16-week build-up', 16)]\n"
     ]
    }
   ],
   "source": [
    "# Generate Training Plan Descriptions Table\n",
    "training_plan_descriptions_table = []\n",
    "plan_id = 1\n",
    "\n",
    "for plan_description, plan_length_weeks in training_plan_durations.items():\n",
    "    training_plan_descriptions_table.append((\n",
    "        plan_id,  # Primary Key\n",
    "        plan_description,\n",
    "        plan_length_weeks\n",
    "    ))\n",
    "    plan_id += 1\n",
    "\n",
    "\n",
    "print(training_plan_descriptions_table[:10])"
   ]
  },
  {
   "cell_type": "code",
   "execution_count": 55,
   "id": "29c3c5ee-515f-49ef-9fdc-7d6d11be8d5c",
   "metadata": {},
   "outputs": [
    {
     "name": "stdout",
     "output_type": "stream",
     "text": [
      "Total training plans created: 878\n"
     ]
    }
   ],
   "source": [
    "# Set the percentage of results that will have an associated training plan\n",
    "percentage_with_plan = 0.75  # 75% of results will have a training plan\n",
    "\n",
    "# Generate Training Plans Table\n",
    "training_plans = []\n",
    "plan_id = 1\n",
    "\n",
    "# Create a lookup dictionary to get the ID based on the description\n",
    "description_to_id = {description: plan_id for plan_id, description, _ in training_plan_descriptions_table}\n",
    "\n",
    "# To track which (runner_id, event_id) pairs already have training plans\n",
    "assigned_training_plans = set()\n",
    "\n",
    "for result in results:\n",
    "    runner_id = result[2]  # runner_id from the results table\n",
    "    event_id = result[1]   # event_id from the results table\n",
    "    event_date = next(event[2] for event in events if event[0] == event_id)  # Get event date from events\n",
    "    \n",
    "    # Skip if the runner already has a training plan for this event\n",
    "    if (runner_id, event_id) in assigned_training_plans:\n",
    "        continue\n",
    "    \n",
    "    # Decide if this result should have a training plan based on the percentage\n",
    "    if random.random() < percentage_with_plan:\n",
    "        # Randomly select a training plan description\n",
    "        plan_description = random.choice(list(training_plan_durations.keys()))\n",
    "        \n",
    "        # Get the duration of the training plan in weeks\n",
    "        plan_length_weeks = training_plan_durations[plan_description]\n",
    "        \n",
    "        # Calculate the start date\n",
    "        start_date = event_date - datetime.timedelta(weeks=plan_length_weeks)\n",
    "        \n",
    "        # Get the plan_id from the description_to_id dictionary\n",
    "        plan_id_ref = description_to_id[plan_description]\n",
    "        \n",
    "        # Append the training plan to the list\n",
    "        training_plans.append((\n",
    "            plan_id,  # Primary Key\n",
    "            runner_id,\n",
    "            event_id,  # Foreign key referencing the Events table\n",
    "            start_date,\n",
    "            event_date,\n",
    "            plan_id_ref  # Reference the plan by ID\n",
    "        ))\n",
    "        \n",
    "        # Mark this (runner_id, event_id) pair as having a training plan\n",
    "        assigned_training_plans.add((runner_id, event_id))\n",
    "        \n",
    "        plan_id += 1\n",
    "\n",
    "# Check the number of training plans created\n",
    "print(f\"Total training plans created: {len(training_plans)}\")"
   ]
  },
  {
   "cell_type": "code",
   "execution_count": 57,
   "id": "5041d17e-4a97-4262-97e3-2330666646ae",
   "metadata": {},
   "outputs": [
    {
     "name": "stdout",
     "output_type": "stream",
     "text": [
      "Verification Passed: No runner has more than one training plan per event.\n"
     ]
    }
   ],
   "source": [
    "from collections import defaultdict\n",
    "\n",
    "# Create a dictionary to track (runner_id, event_id) combinations\n",
    "runner_event_count = defaultdict(int)\n",
    "\n",
    "# Populate the dictionary with counts\n",
    "for plan in training_plans:\n",
    "    runner_id = plan[1]  # runner_id\n",
    "    event_id = plan[2]   # event_id\n",
    "    runner_event_count[(runner_id, event_id)] += 1\n",
    "\n",
    "# Identify duplicates\n",
    "duplicate_plans = [(runner_id, event_id) for (runner_id, event_id), count in runner_event_count.items() if count > 1]\n",
    "\n",
    "# Verification\n",
    "if len(duplicate_plans) == 0:\n",
    "    print(\"Verification Passed: No runner has more than one training plan per event.\")\n",
    "else:\n",
    "    print(f\"Verification Failed: The following (runner_id, event_id) pairs have multiple training plans: {duplicate_plans}\")"
   ]
  },
  {
   "cell_type": "code",
   "execution_count": null,
   "id": "850ce1ff-6508-4ce1-bed7-853459f43be8",
   "metadata": {},
   "outputs": [],
   "source": [
    "print(training_plans[:10])"
   ]
  },
  {
   "cell_type": "markdown",
   "id": "1508ebc4-6664-4a82-895a-77ee11743d9e",
   "metadata": {},
   "source": [
    "## Making a function to generate SQL insert statements, generating SQL statements, and combining all SQL scripts"
   ]
  },
  {
   "cell_type": "code",
   "execution_count": null,
   "id": "f08377a5-5a22-4758-b556-9580ecfb876d",
   "metadata": {},
   "outputs": [],
   "source": [
    "# Function to generate SQL insert statements\n",
    "def generate_sql_inserts(table_name, columns, data):\n",
    "    sql = f\"INSERT INTO {table_name} ({', '.join(columns)}) VALUES\\n\"\n",
    "    values = []\n",
    "    for row in data:\n",
    "        formatted_values = ', '.join([f\"'{str(v)}'\" if isinstance(v, str) or isinstance(v, datetime.date) else str(v) for v in row])\n",
    "        values.append(f\"({formatted_values})\")\n",
    "    sql += ',\\n'.join(values) + \";\\n\"\n",
    "    return sql"
   ]
  },
  {
   "cell_type": "code",
   "execution_count": null,
   "id": "0a1e093b-f5a4-4244-a61a-61205c328aa5",
   "metadata": {},
   "outputs": [],
   "source": [
    "# Generate SQL statements\n",
    "runner_columns = ['runner_id', 'first_name', 'last_name', 'date_of_birth','sex', 'country']\n",
    "event_columns = ['event_id', 'event', 'event_date']\n",
    "result_columns = ['result_id', 'event_id', 'runner_id', 'finish_time', 'position', 'sex','is_elite']\n",
    "sponsor_columns = ['sponsor_id', 'sponsor_name']\n",
    "sponsored_athletes_columns = ['sponsor_id', 'sponsor_name', 'runner_id']\n",
    "training_plan_columns = ['id', 'runner_id', 'start_date', 'end_date', 'plan_id']\n",
    "training_plan_descriptions_columns = ['plan_id','plan_description','plan_length_weeks']\n",
    "\n",
    "\n",
    "sql_runners = generate_sql_inserts('Runners', runner_columns, runners)\n",
    "sql_events = generate_sql_inserts('Events', event_columns, events)\n",
    "sql_results = generate_sql_inserts('Results', result_columns, results)\n",
    "sql_sponsors = generate_sql_inserts('Sponsors', sponsor_columns, sponsors)\n",
    "sql_sponsored_athletes = generate_sql_inserts('Sponsored_Athletes', sponsored_athletes_columns, sponsored_athletes)\n",
    "sql_training_plans = generate_sql_inserts('Training_Plans', training_plan_columns, training_plans)\n",
    "sql_training_plan_descriptions_table = generate_sql_inserts('Training_Plans_Descriptions', training_plan_descriptions_columns,training_plan_descriptions_table)\n"
   ]
  },
  {
   "cell_type": "code",
   "execution_count": null,
   "id": "7545d9e4-4d13-4cd9-888f-c469b24cb526",
   "metadata": {},
   "outputs": [],
   "source": [
    "print(sql_runners[:500])"
   ]
  },
  {
   "cell_type": "code",
   "execution_count": null,
   "id": "b3b01ba0-1398-44ae-ab3c-9b01eb37e38a",
   "metadata": {},
   "outputs": [],
   "source": [
    "# Combine all SQL scripts\n",
    "sql_script = sql_runners + sql_events + sql_results + sql_sponsors + sql_training_plans + sql_sponsored_athletes + sql_training_plan_descriptions_table\n"
   ]
  },
  {
   "cell_type": "code",
   "execution_count": null,
   "id": "ae0a5e30-5b8a-4a2f-95e5-978958f4cc66",
   "metadata": {},
   "outputs": [],
   "source": [
    "print(sql_script[:500])"
   ]
  },
  {
   "cell_type": "code",
   "execution_count": null,
   "id": "ee137718-e28f-4983-9d4a-f68a6e6c3492",
   "metadata": {},
   "outputs": [],
   "source": [
    "with open(\"create_Marathon_results_database.sql\", \"w\") as file:\n",
    "    file.write(sql_script)"
   ]
  },
  {
   "cell_type": "code",
   "execution_count": null,
   "id": "48282460-c148-4dd0-a63a-ec98a9107c97",
   "metadata": {},
   "outputs": [],
   "source": []
  }
 ],
 "metadata": {
  "kernelspec": {
   "display_name": "Python 3 (ipykernel)",
   "language": "python",
   "name": "python3"
  },
  "language_info": {
   "codemirror_mode": {
    "name": "ipython",
    "version": 3
   },
   "file_extension": ".py",
   "mimetype": "text/x-python",
   "name": "python",
   "nbconvert_exporter": "python",
   "pygments_lexer": "ipython3",
   "version": "3.12.4"
  }
 },
 "nbformat": 4,
 "nbformat_minor": 5
}
