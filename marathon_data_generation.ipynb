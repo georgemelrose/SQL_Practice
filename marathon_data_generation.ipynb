{
 "cells": [
  {
   "cell_type": "markdown",
   "id": "a978315f-ff05-4ce3-b7f2-c80477965386",
   "metadata": {},
   "source": [
    "# Generating Marathon Data for SQL Practice"
   ]
  },
  {
   "cell_type": "markdown",
   "id": "061494ac-77be-437f-bca8-b5b9e48fb830",
   "metadata": {},
   "source": [
    "This is a Python Jupyter notebook for creating a full mock SQL database of marathon race results with thousands of records. This script simulates a realistic dataset, including both elite and recreational runners, with varied performance data across multiple marathon events. There are several steps to this:"
   ]
  },
  {
   "cell_type": "markdown",
   "id": "3dc011f4-26f2-402b-8e67-949d23a90cd5",
   "metadata": {},
   "source": [
    "1. **Generate 'Runners' Table** - Creates a list of 1000 runners, mixing famous elite and athletes and randomly generated recreational runners.\n",
    "2. **Generate 'Events' Table** - Create data for different marathon events, spanning different years.\n",
    "3. **Generate 'Results' Table** - Assign finishing times and positions to runners for each event.\n",
    "4. **Generate 'Sponsors' Table** - Associates elite runners with sponsors.\n",
    "5. **Generate 'Training Plans' Table** - Assign training plans to a subset of runners."
   ]
  },
  {
   "cell_type": "markdown",
   "id": "a1685db2-e9af-4864-906e-badff53273c4",
   "metadata": {},
   "source": [
    "## Import packages"
   ]
  },
  {
   "cell_type": "code",
   "execution_count": 5,
   "id": "79869662-4960-4f2f-9596-a48ada074178",
   "metadata": {},
   "outputs": [
    {
     "name": "stdout",
     "output_type": "stream",
     "text": [
      "Requirement already satisfied: faker in c:\\users\\gam55\\appdata\\local\\anaconda3\\lib\\site-packages (26.3.0)\n",
      "Requirement already satisfied: python-dateutil>=2.4 in c:\\users\\gam55\\appdata\\local\\anaconda3\\lib\\site-packages (from faker) (2.9.0.post0)\n",
      "Requirement already satisfied: six>=1.5 in c:\\users\\gam55\\appdata\\local\\anaconda3\\lib\\site-packages (from python-dateutil>=2.4->faker) (1.16.0)\n",
      "Note: you may need to restart the kernel to use updated packages.\n"
     ]
    }
   ],
   "source": [
    "pip install faker"
   ]
  },
  {
   "cell_type": "code",
   "execution_count": 6,
   "id": "95d1ba1a-e29a-41e9-ac9c-b6082ec74a9a",
   "metadata": {},
   "outputs": [],
   "source": [
    "import random\n",
    "from faker import Faker\n",
    "import datetime\n",
    "import pandas as pd"
   ]
  },
  {
   "cell_type": "code",
   "execution_count": 7,
   "id": "3c4c246e-1594-4e87-8807-3bd1b7d31572",
   "metadata": {},
   "outputs": [],
   "source": [
    "fake = Faker()"
   ]
  },
  {
   "cell_type": "markdown",
   "id": "eafa8418-8d26-45ba-aa23-94a837da30cf",
   "metadata": {},
   "source": [
    "## Define the records for tables and helper functions"
   ]
  },
  {
   "cell_type": "code",
   "execution_count": 9,
   "id": "934d028d-28fe-4bf9-b32b-7a6d14feb81c",
   "metadata": {},
   "outputs": [],
   "source": [
    "# Helper functions\n",
    "def random_time():\n",
    "    \"\"\"Generate a random marathon finish time\"\"\"\n",
    "    hours = random.randint(2, 5)\n",
    "    minutes = random.randint(0, 59)\n",
    "    seconds = random.randint(0, 59)\n",
    "    return f'{hours:02}:{minutes:02}:{seconds:02}'"
   ]
  },
  {
   "cell_type": "code",
   "execution_count": 10,
   "id": "cbba74f9-50da-4132-b978-957cd322e178",
   "metadata": {},
   "outputs": [],
   "source": [
    "# Define the number of records\n",
    "num_runners = 1000\n",
    "num_events = 12 # 12 for the 6 marathons over 2 years (2012-2023)\n",
    "num_results = num_runners * num_events\n",
    "num_sponsors = 100\n",
    "num_training_plans = 600"
   ]
  },
  {
   "cell_type": "code",
   "execution_count": 11,
   "id": "8d2711b4-350b-41fa-b0ae-cd13680f0841",
   "metadata": {},
   "outputs": [],
   "source": [
    "# Define the major marathons and their exact dates\n",
    "marathons = [\n",
    "    (\"Boston Marathon\", [\n",
    "        \"2012-04-16\", \"2013-04-15\", \"2014-04-21\", \"2015-04-20\", \"2016-04-18\",\n",
    "        \"2017-04-17\", \"2018-04-16\", \"2019-04-15\", \"2020-10-11\", \"2021-10-11\",\n",
    "        \"2022-04-18\", \"2023-04-17\"\n",
    "    ]),\n",
    "    (\"London Marathon\", [\n",
    "        \"2012-04-22\", \"2013-04-21\", \"2014-04-21\", \"2015-04-26\", \"2016-04-24\",\n",
    "        \"2017-04-23\", \"2018-04-22\", \"2019-04-28\", \"2020-10-04\", \"2021-10-03\",\n",
    "        \"2022-10-02\", \"2023-04-23\"\n",
    "    ]),\n",
    "    (\"New York City Marathon\", [\n",
    "        \"2012-11-04\", \"2013-11-03\", \"2014-11-02\", \"2015-11-01\", \"2016-11-06\",\n",
    "        \"2017-11-05\", \"2018-11-04\", \"2019-11-03\", \"2020-12-13\", \"2021-11-07\",\n",
    "        \"2022-11-06\", \"2023-11-05\"\n",
    "    ]),\n",
    "    (\"Berlin Marathon\", [\n",
    "        \"2012-09-30\", \"2013-09-29\", \"2014-09-28\", \"2015-09-27\", \"2016-09-25\",\n",
    "        \"2017-09-24\", \"2018-09-16\", \"2019-09-29\", \"2020-09-27\", \"2021-09-26\",\n",
    "        \"2022-09-25\", \"2023-09-24\"\n",
    "    ]),\n",
    "    (\"Chicago Marathon\", [\n",
    "        \"2012-10-07\", \"2013-10-13\", \"2014-10-12\", \"2015-10-11\", \"2016-10-09\",\n",
    "        \"2017-10-08\", \"2018-10-07\", \"2019-10-13\", \"2020-10-11\", \"2021-10-10\",\n",
    "        \"2022-10-09\", \"2023-10-08\"\n",
    "    ]),\n",
    "    (\"Tokyo Marathon\", [\n",
    "        \"2012-02-26\", \"2013-02-24\", \"2014-02-23\", \"2015-02-22\", \"2016-02-28\",\n",
    "        \"2017-02-26\", \"2018-02-25\", \"2019-03-03\", \"2020-03-01\", \"2021-03-07\",\n",
    "        \"2022-03-06\", \"2023-03-05\"\n",
    "    ])\n",
    "]"
   ]
  },
  {
   "cell_type": "code",
   "execution_count": 12,
   "id": "ee812338-0061-494c-87b5-9855308f504c",
   "metadata": {},
   "outputs": [],
   "source": [
    "# Define predefined training plan descriptions\n",
    "training_plan_descriptions = [\n",
    "    \"Beginner Marathon Plan: 16-week build-up\",\n",
    "    \"Intermediate Marathon Plan: 12-week build-up\",\n",
    "    \"Advanced Marathon Plan: 18-week build-up\",\n",
    "    \"Elite Marathon Plan: 24-week build-up\",\n",
    "    \"5K to Marathon Transition Plan: 20-week build-up\",\n",
    "    \"Half-Marathon to Marathon Plan: 14-week build-up\",\n",
    "    \"Strength and Conditioning Focus Plan: 10-week build-up\",\n",
    "    \"Speed Work Focus Plan: 12-week build-up\",\n",
    "    \"Long Distance Endurance Focus Plan: 22-week build-up\",\n",
    "    \"Customized Marathon Plan: 16-week build-up\"\n",
    "]"
   ]
  },
  {
   "cell_type": "markdown",
   "id": "475a4b75-44e5-46b1-be9b-9b660f172725",
   "metadata": {},
   "source": [
    "## Generate Tables"
   ]
  },
  {
   "cell_type": "code",
   "execution_count": 103,
   "id": "14043bf8-5064-4436-b110-750051b90aa9",
   "metadata": {},
   "outputs": [
    {
     "ename": "AttributeError",
     "evalue": "Invalid configuration for faker locale `fr_LU`",
     "output_type": "error",
     "traceback": [
      "\u001b[1;31m---------------------------------------------------------------------------\u001b[0m",
      "\u001b[1;31mAttributeError\u001b[0m                            Traceback (most recent call last)",
      "Cell \u001b[1;32mIn[103], line 91\u001b[0m\n\u001b[0;32m     88\u001b[0m locale, country \u001b[38;5;241m=\u001b[39m random\u001b[38;5;241m.\u001b[39mchoice(\u001b[38;5;28mlist\u001b[39m(locale_country_map\u001b[38;5;241m.\u001b[39mitems()))\n\u001b[0;32m     90\u001b[0m \u001b[38;5;66;03m# Create a Faker instance with the selected locale\u001b[39;00m\n\u001b[1;32m---> 91\u001b[0m localized_fake \u001b[38;5;241m=\u001b[39m Faker(locale)\n\u001b[0;32m     93\u001b[0m \u001b[38;5;66;03m# Generate the runner data\u001b[39;00m\n\u001b[0;32m     94\u001b[0m runners\u001b[38;5;241m.\u001b[39mappend((\n\u001b[0;32m     95\u001b[0m     i,\n\u001b[0;32m     96\u001b[0m     localized_fake\u001b[38;5;241m.\u001b[39mfirst_name_male() \u001b[38;5;28;01mif\u001b[39;00m category \u001b[38;5;241m==\u001b[39m \u001b[38;5;124m'\u001b[39m\u001b[38;5;124mMale\u001b[39m\u001b[38;5;124m'\u001b[39m \u001b[38;5;28;01melse\u001b[39;00m localized_fake\u001b[38;5;241m.\u001b[39mfirst_name_female(),\n\u001b[1;32m   (...)\u001b[0m\n\u001b[0;32m    100\u001b[0m     country\n\u001b[0;32m    101\u001b[0m ))\n",
      "File \u001b[1;32m~\\AppData\\Local\\anaconda3\\Lib\\site-packages\\faker\\proxy.py:72\u001b[0m, in \u001b[0;36mFaker.__init__\u001b[1;34m(self, locale, providers, generator, includes, use_weighting, **config)\u001b[0m\n\u001b[0;32m     69\u001b[0m     locales \u001b[38;5;241m=\u001b[39m [DEFAULT_LOCALE]\n\u001b[0;32m     71\u001b[0m \u001b[38;5;28;01mif\u001b[39;00m \u001b[38;5;28mlen\u001b[39m(locales) \u001b[38;5;241m==\u001b[39m \u001b[38;5;241m1\u001b[39m:\n\u001b[1;32m---> 72\u001b[0m     \u001b[38;5;28mself\u001b[39m\u001b[38;5;241m.\u001b[39m_factory_map[locales[\u001b[38;5;241m0\u001b[39m]] \u001b[38;5;241m=\u001b[39m Factory\u001b[38;5;241m.\u001b[39mcreate(\n\u001b[0;32m     73\u001b[0m         locales[\u001b[38;5;241m0\u001b[39m],\n\u001b[0;32m     74\u001b[0m         providers,\n\u001b[0;32m     75\u001b[0m         generator,\n\u001b[0;32m     76\u001b[0m         includes,\n\u001b[0;32m     77\u001b[0m         use_weighting\u001b[38;5;241m=\u001b[39muse_weighting,\n\u001b[0;32m     78\u001b[0m         \u001b[38;5;241m*\u001b[39m\u001b[38;5;241m*\u001b[39mconfig,\n\u001b[0;32m     79\u001b[0m     )\n\u001b[0;32m     80\u001b[0m \u001b[38;5;28;01melse\u001b[39;00m:\n\u001b[0;32m     81\u001b[0m     \u001b[38;5;28;01mfor\u001b[39;00m locale \u001b[38;5;129;01min\u001b[39;00m locales:\n",
      "File \u001b[1;32m~\\AppData\\Local\\anaconda3\\Lib\\site-packages\\faker\\factory.py:43\u001b[0m, in \u001b[0;36mFactory.create\u001b[1;34m(cls, locale, providers, generator, includes, use_weighting, **config)\u001b[0m\n\u001b[0;32m     41\u001b[0m \u001b[38;5;28;01mif\u001b[39;00m locale \u001b[38;5;129;01mnot\u001b[39;00m \u001b[38;5;129;01min\u001b[39;00m AVAILABLE_LOCALES:\n\u001b[0;32m     42\u001b[0m     msg \u001b[38;5;241m=\u001b[39m \u001b[38;5;124mf\u001b[39m\u001b[38;5;124m\"\u001b[39m\u001b[38;5;124mInvalid configuration for faker locale `\u001b[39m\u001b[38;5;132;01m{\u001b[39;00mlocale\u001b[38;5;132;01m}\u001b[39;00m\u001b[38;5;124m`\u001b[39m\u001b[38;5;124m\"\u001b[39m\n\u001b[1;32m---> 43\u001b[0m     \u001b[38;5;28;01mraise\u001b[39;00m \u001b[38;5;167;01mAttributeError\u001b[39;00m(msg)\n\u001b[0;32m     45\u001b[0m config[\u001b[38;5;124m\"\u001b[39m\u001b[38;5;124mlocale\u001b[39m\u001b[38;5;124m\"\u001b[39m] \u001b[38;5;241m=\u001b[39m locale\n\u001b[0;32m     46\u001b[0m config[\u001b[38;5;124m\"\u001b[39m\u001b[38;5;124muse_weighting\u001b[39m\u001b[38;5;124m\"\u001b[39m] \u001b[38;5;241m=\u001b[39m use_weighting\n",
      "\u001b[1;31mAttributeError\u001b[0m: Invalid configuration for faker locale `fr_LU`"
     ]
    }
   ],
   "source": [
    "# Generate Runners Table\n",
    "runners = []\n",
    "for i in range(1, num_runners + 1):\n",
    "    # Randomly select a category for each runner\n",
    "    category = random.choice(['Male', 'Female'])\n",
    "    \n",
    "    # Randomly select a locale corresponding to a country\n",
    "    locale_country_map = {\n",
    "    'ar_AA': 'Arabic',\n",
    "    'ar_AE': 'United Arab Emirates',\n",
    "    'ar_BH': 'Bahrain',\n",
    "    'ar_EG': 'Egypt',\n",
    "    'ar_JO': 'Jordan',\n",
    "    'ar_PS': 'Palestine',\n",
    "    'ar_SA': 'Saudi Arabia',\n",
    "    'az_AZ': 'Azerbaijan',\n",
    "    'bg_BG': 'Bulgaria',\n",
    "    'bn_BD': 'Bangladesh',\n",
    "    'bs_BA': 'Bosnia and Herzegovina',\n",
    "    'cs_CZ': 'Czech Republic',\n",
    "    'da_DK': 'Denmark',\n",
    "    'de_AT': 'Austria',\n",
    "    'de_CH': 'Switzerland',\n",
    "    'de_DE': 'Germany',\n",
    "    'el_CY': 'Cyprus',\n",
    "    'el_GR': 'Greece',\n",
    "    'en_AU': 'Australia',\n",
    "    'en_CA': 'Canada',\n",
    "    'en_GB': 'United Kingdom',\n",
    "    'en_IE': 'Ireland',\n",
    "    'en_IN': 'India',\n",
    "    'en_NZ': 'New Zealand',\n",
    "    'en_PH': 'Philippines',\n",
    "    'en_US': 'United States',\n",
    "    'es_AR': 'Argentina',\n",
    "    'es_CL': 'Chile',\n",
    "    'es_CO': 'Colombia',\n",
    "    'es_ES': 'Spain',\n",
    "    'es_MX': 'Mexico',\n",
    "    'es_PY': 'Paraguay',\n",
    "    'et_EE': 'Estonia',\n",
    "    'fa_IR': 'Iran',\n",
    "    'fi_FI': 'Finland',\n",
    "    'fr_BE': 'Belgium',\n",
    "    'fr_CA': 'Canada',\n",
    "    'fr_CH': 'Switzerland',\n",
    "    'fr_FR': 'France',\n",
    "    'ga_IE': 'Ireland',\n",
    "    'he_IL': 'Israel',\n",
    "    'hi_IN': 'India',\n",
    "    'hr_HR': 'Croatia',\n",
    "    'hu_HU': 'Hungary',\n",
    "    'hy_AM': 'Armenia',\n",
    "    'id_ID': 'Indonesia',\n",
    "    'it_CH': 'Switzerland',\n",
    "    'it_IT': 'Italy',\n",
    "    'ja_JP': 'Japan',\n",
    "    'ka_GE': 'Georgia',\n",
    "    'ko_KR': 'South Korea',\n",
    "    'lb_LU': 'Luxembourg',\n",
    "    'lt_LT': 'Lithuania',\n",
    "    'lv_LV': 'Latvia',\n",
    "    'ne_NP': 'Nepal',\n",
    "    'nl_BE': 'Belgium',\n",
    "    'nl_NL': 'Netherlands',\n",
    "    'no_NO': 'Norway',\n",
    "    'pl_PL': 'Poland',\n",
    "    'pt_BR': 'Brazil',\n",
    "    'pt_PT': 'Portugal',\n",
    "    'ro_RO': 'Romania',\n",
    "    'ru_RU': 'Russia',\n",
    "    'sk_SK': 'Slovakia',\n",
    "    'sl_SI': 'Slovenia',\n",
    "    'sq_AL': 'Albania',\n",
    "    'sv_SE': 'Sweden',\n",
    "    'ta_IN': 'India',\n",
    "    'th_TH': 'Thailand',\n",
    "    'tr_CY': 'Northern Cyprus',\n",
    "    'tr_TR': 'Turkey',\n",
    "    'uk_UA': 'Ukraine',\n",
    "    'vi_VN': 'Vietnam',\n",
    "    'zh_CN': 'China',\n",
    "    'zh_TW': 'Taiwan',\n",
    "    'zu_ZA': 'South Africa'\n",
    "}\n",
    "\n",
    "    locale, country = random.choice(list(locale_country_map.items()))\n",
    "    \n",
    "    # Create a Faker instance with the selected locale\n",
    "    localized_fake = Faker(locale)\n",
    "    \n",
    "    # Generate the runner data\n",
    "    runners.append((\n",
    "        i,\n",
    "        localized_fake.first_name_male() if category == 'Male' else localized_fake.first_name_female(),\n",
    "        localized_fake.last_name(),\n",
    "        localized_fake.date_of_birth(minimum_age=18, maximum_age=90),\n",
    "        category,  # Assign the randomly chosen category\n",
    "        country\n",
    "    ))\n",
    "\n",
    "# Example output\n",
    "for runner in runners[:5]:  # Print first 5 runners\n",
    "    print(runner)\n"
   ]
  },
  {
   "cell_type": "code",
   "execution_count": null,
   "id": "653ace64-3c0e-4cd1-826c-37ba63783f89",
   "metadata": {},
   "outputs": [],
   "source": [
    "unique_countries = set(runner[5] for runner in runners)\n",
    "print(\"Unique countries:\", unique_countries)"
   ]
  },
  {
   "cell_type": "code",
   "execution_count": null,
   "id": "df0e6c13-8c66-4a96-ab73-8c92b826c0d0",
   "metadata": {},
   "outputs": [],
   "source": [
    "print(runners)"
   ]
  },
  {
   "cell_type": "code",
   "execution_count": null,
   "id": "426dc419-4c92-4da7-b118-22448d5d5445",
   "metadata": {},
   "outputs": [],
   "source": [
    "runners_countries = runners[5]\n",
    "print(runners_countries)"
   ]
  },
  {
   "cell_type": "code",
   "execution_count": null,
   "id": "7c24d566-c51d-4002-a8d3-5e9a7d1537d8",
   "metadata": {},
   "outputs": [],
   "source": [
    "# Generate Events Table\n",
    "events = []\n",
    "event_id = 1\n",
    "for marathon_name, dates in marathons:\n",
    "    for event_date in dates:\n",
    "        events.append((\n",
    "            event_id,\n",
    "            marathon_name,\n",
    "            datetime.datetime.strptime(event_date, \"%Y-%m-%d\").date()  # Ensure event_date is a datetime.date object \n",
    "        ))\n",
    "        event_id += 1"
   ]
  },
  {
   "cell_type": "code",
   "execution_count": null,
   "id": "f13d1f3d-ff42-4503-a147-7dc9e7e7c2ad",
   "metadata": {},
   "outputs": [],
   "source": [
    "print(events)"
   ]
  },
  {
   "cell_type": "code",
   "execution_count": null,
   "id": "b616520d-75bb-4976-b57b-2f248a937909",
   "metadata": {},
   "outputs": [],
   "source": [
    "# Generate Results Table\n",
    "results = []\n",
    "assigned_pairs = set()  # Set to keep track of assigned (runner_id, event_id) pairs\n",
    "\n",
    "for i in range(1, num_results + 1):\n",
    "    runner_id = random.randint(1, num_runners)\n",
    "    event_id = ((i - 1) % num_events) + 1\n",
    "    \n",
    "    # Ensure the runner has not participated in the same event before\n",
    "    while (runner_id, event_id) in assigned_pairs:\n",
    "        runner_id = random.randint(1, num_runners)\n",
    "        event_id = random.randint(1, num_events)\n",
    "    \n",
    "    assigned_pairs.add((runner_id, event_id))  # Record the (runner_id, event_id) pair\n",
    "    \n",
    "    # Get the runner details\n",
    "    runner = next(r for r in runners if r[0] == runner_id)\n",
    "    finish_time = random_time()\n",
    "    position = random.randint(1, 5000)\n",
    "    category = runner[4]  # Use the runner's category from the runners table\n",
    "    is_elite = False\n",
    "    \n",
    "    # Determine if the runner's finish time is elite\n",
    "    if category == 'Male' and float(finish_time[:2]) < 2.15:\n",
    "        is_elite = True\n",
    "    elif category == 'Female' and float(finish_time[:2]) < 2.30:\n",
    "        is_elite = True\n",
    "    elif 'Wheelchair' in category and float(finish_time[:2]) < 1.20:\n",
    "        is_elite = True\n",
    "\n",
    "    results.append((\n",
    "        i,\n",
    "        event_id,\n",
    "        runner_id,\n",
    "        finish_time,\n",
    "        position,\n",
    "        category,\n",
    "        is_elite\n",
    "    ))\n",
    "\n",
    "# Verify that no runner has participated in the same event more than once\n",
    "duplicates = [(runner_id, event_id) for (runner_id, event_id) in assigned_pairs]\n",
    "if len(duplicates) != len(assigned_pairs):\n",
    "    print(\"Error: A runner has participated in the same event more than once.\")\n",
    "else:\n",
    "    print(\"Verification passed: No runner has participated in the same event more than once.\")\n"
   ]
  },
  {
   "cell_type": "code",
   "execution_count": null,
   "id": "0098415a-9f1a-4ba5-a575-9de035664d08",
   "metadata": {},
   "outputs": [],
   "source": [
    "print(results)"
   ]
  },
  {
   "cell_type": "code",
   "execution_count": null,
   "id": "78706c52-8fc2-45d0-ba01-f45b31cd85ab",
   "metadata": {},
   "outputs": [],
   "source": [
    "# Identify elite runners based on the 'results' table\n",
    "elite_runners = [runner_id for runner_id, _, _, _, _, _, is_elite in results if is_elite]"
   ]
  },
  {
   "cell_type": "code",
   "execution_count": null,
   "id": "cff6cc75-ce9d-48d8-bf21-d45f04540db9",
   "metadata": {},
   "outputs": [],
   "source": [
    "print(elite_runners)"
   ]
  },
  {
   "cell_type": "code",
   "execution_count": null,
   "id": "c86c8ffc-3819-4313-8b8a-804480c12525",
   "metadata": {},
   "outputs": [],
   "source": [
    "# Generate Sponsors Table \n",
    "sponsors = [\n",
    "    \"Nike\", \"Adidas\", \"Asics\", \"Saucony\", \"Hoka\",\n",
    "    \"Brooks\", \"New Balance\", \"Puma\", \"Under Armour\", \"Tracksmith\"\n",
    "]\n",
    "\n",
    "# Select 50% of elite runners to have sponsors\n",
    "sponsored_runners = random.sample(elite_runners, len(elite_runners) // 2)\n",
    "\n",
    "# Generate Sponsors Athletes Table\n",
    "sponsored_athletes = []\n",
    "used_sponsors = set()  # To keep track of assigned sponsors\n",
    "\n",
    "for i, runner_id in enumerate(sponsored_runners, start=1):\n",
    "    sponsor_name = random.choice(sponsors)\n",
    "    \n",
    "    # Ensure the runner doesn't already have a sponsor\n",
    "    while runner_id in used_sponsors:\n",
    "        runner_id = random.choice(sponsored_runners)\n",
    "    \n",
    "    sponsored_athletes.append((\n",
    "        i,\n",
    "        sponsor_name,\n",
    "        runner_id\n",
    "    ))\n",
    "    \n",
    "    # Mark this runner as having a sponsor\n",
    "    used_sponsors.add(runner_id)\n",
    "\n",
    "# Verification code to check if any runner appears more than once\n",
    "runner_ids = [data[2] for data in sponsored_athletes]\n",
    "duplicate_runners = set([runner_id for runner_id in runner_ids if runner_ids.count(runner_id) > 1])\n",
    "\n",
    "if len(duplicate_runners) == 0:\n",
    "    print(\"Verification Passed: No runner appears more than once in the sponsors table.\")\n",
    "else:\n",
    "    print(f\"Verification Failed: The following runners have multiple sponsors: {duplicate_runners}\")\n"
   ]
  },
  {
   "cell_type": "code",
   "execution_count": null,
   "id": "9cb7404c-6d79-43e5-9700-a4c150e56aac",
   "metadata": {},
   "outputs": [],
   "source": [
    "print(sponsored_athletes)"
   ]
  },
  {
   "cell_type": "code",
   "execution_count": null,
   "id": "1fdc9be8-076d-4829-8fcc-1f9a4278d61f",
   "metadata": {},
   "outputs": [],
   "source": [
    "# Generate Sponsors Table\n",
    "sponsors = [\n",
    "    (1, \"Nike\"),\n",
    "    (2, \"Adidas\"),\n",
    "    (3, \"Asics\"),\n",
    "    (4, \"Saucony\"),\n",
    "    (5, \"Hoka\"),\n",
    "    (6, \"Brooks\"),\n",
    "    (7, \"New Balance\"),\n",
    "    (8, \"Puma\"),\n",
    "    (9, \"Under Armour\"),\n",
    "    (10, \"Tracksmith\")\n",
    "]\n",
    "print(sponsors)"
   ]
  },
  {
   "cell_type": "code",
   "execution_count": null,
   "id": "ac26baad-925a-4541-9a5f-bb6018ef2680",
   "metadata": {},
   "outputs": [],
   "source": [
    "training_plan_durations = {\n",
    "    \"Beginner Marathon Plan: 16-week build-up\": 16,\n",
    "    \"Intermediate Marathon Plan: 12-week build-up\": 12,\n",
    "    \"Advanced Marathon Plan: 18-week build-up\": 18,\n",
    "    \"Elite Marathon Plan: 24-week build-up\": 24,\n",
    "    \"5K to Marathon Transition Plan: 20-week build-up\": 20,\n",
    "    \"Half-Marathon to Marathon Plan: 14-week build-up\": 14,\n",
    "    \"Strength and Conditioning Focus Plan: 10-week build-up\": 10,\n",
    "    \"Speed Work Focus Plan: 12-week build-up\": 12,\n",
    "    \"Long Distance Endurance Focus Plan: 22-week build-up\": 22,\n",
    "    \"Customized Marathon Plan: 16-week build-up\": 16\n",
    "}"
   ]
  },
  {
   "cell_type": "code",
   "execution_count": null,
   "id": "55d922b0-0d07-4c37-884f-2d5cbbfe36d7",
   "metadata": {},
   "outputs": [],
   "source": [
    "# Generate Training Plan Descriptions Table\n",
    "training_plan_descriptions_table = []\n",
    "plan_id = 1\n",
    "\n",
    "for plan_description, plan_length_weeks in training_plan_durations.items():\n",
    "    training_plan_descriptions_table.append((\n",
    "        plan_id,  # Primary Key\n",
    "        plan_description,\n",
    "        plan_length_weeks\n",
    "    ))\n",
    "    plan_id += 1\n",
    "\n",
    "\n",
    "print(training_plan_descriptions_table)"
   ]
  },
  {
   "cell_type": "code",
   "execution_count": null,
   "id": "50f4521f-ec4c-45fa-a668-2bbfa2d30350",
   "metadata": {},
   "outputs": [],
   "source": [
    "# Select 60% of runners to have training plans\n",
    "all_runner_ids = [runner[0] for runner in runners]\n",
    "selected_runner_ids = random.sample(all_runner_ids, int(len(all_runner_ids) * 0.60))"
   ]
  },
  {
   "cell_type": "code",
   "execution_count": null,
   "id": "29c3c5ee-515f-49ef-9fdc-7d6d11be8d5c",
   "metadata": {},
   "outputs": [],
   "source": [
    "# Generate Training Plans Table\n",
    "training_plans = []\n",
    "plan_id = 1\n",
    "\n",
    "# Create a lookup dictionary to get the ID based on the description\n",
    "description_to_id = {description: plan_id for plan_id, description, _ in training_plan_descriptions_table}\n",
    "\n",
    "for event in events:\n",
    "    event_id = event[0]\n",
    "    event_name = event[1]\n",
    "    event_date = event[2]  # event_date is already a datetime.date object\n",
    "    \n",
    "    for runner_id in selected_runner_ids:\n",
    "        # Randomly select a training plan description\n",
    "        plan_description = random.choice(list(training_plan_durations.keys()))\n",
    "        \n",
    "        # Get the duration of the training plan in weeks\n",
    "        plan_length_weeks = training_plan_durations[plan_description]\n",
    "        \n",
    "        # Calculate the start date\n",
    "        start_date = event_date - datetime.timedelta(weeks=plan_length_weeks)\n",
    "        \n",
    "        # Get the plan_id from the description_to_id dictionary\n",
    "        plan_id_ref = description_to_id[plan_description]\n",
    "        \n",
    "        # Ensure we generate enough training plans\n",
    "        if plan_id <= num_training_plans:\n",
    "            training_plans.append((\n",
    "                plan_id,  # Primary Key\n",
    "                runner_id,\n",
    "                start_date,\n",
    "                event_date,\n",
    "                plan_id_ref  # Reference the plan by ID\n",
    "            ))\n",
    "            plan_id += 1\n"
   ]
  },
  {
   "cell_type": "code",
   "execution_count": null,
   "id": "850ce1ff-6508-4ce1-bed7-853459f43be8",
   "metadata": {},
   "outputs": [],
   "source": [
    "print(training_plans)"
   ]
  },
  {
   "cell_type": "markdown",
   "id": "1508ebc4-6664-4a82-895a-77ee11743d9e",
   "metadata": {},
   "source": [
    "## Making a function to generate SQL insert statements, generating SQL statements, and combining all SQL scripts"
   ]
  },
  {
   "cell_type": "code",
   "execution_count": null,
   "id": "f08377a5-5a22-4758-b556-9580ecfb876d",
   "metadata": {},
   "outputs": [],
   "source": [
    "# Function to generate SQL insert statements\n",
    "def generate_sql_inserts(table_name, columns, data):\n",
    "    sql = f\"INSERT INTO {table_name} ({', '.join(columns)}) VALUES\\n\"\n",
    "    values = []\n",
    "    for row in data:\n",
    "        formatted_values = ', '.join([f\"'{str(v)}'\" if isinstance(v, str) or isinstance(v, datetime.date) else str(v) for v in row])\n",
    "        values.append(f\"({formatted_values})\")\n",
    "    sql += ',\\n'.join(values) + \";\\n\"\n",
    "    return sql"
   ]
  },
  {
   "cell_type": "code",
   "execution_count": null,
   "id": "0a1e093b-f5a4-4244-a61a-61205c328aa5",
   "metadata": {},
   "outputs": [],
   "source": [
    "# Generate SQL statements\n",
    "runner_columns = ['runner_id', 'first_name', 'last_name', 'date_of_birth', 'country', 'elite_status']\n",
    "event_columns = ['event_id', 'event_year', 'event_date', 'location']\n",
    "result_columns = ['result_id', 'event_id', 'runner_id', 'finish_time', 'position', 'category']\n",
    "sponsor_columns = ['sponsor_id', 'sponsor_name']\n",
    "sponsored_athletes_columns = ['sponsor_id', 'sponsor_name', 'runner_id']\n",
    "training_plan_columns = ['plan_id', 'runner_id', 'start_date', 'end_date', 'description']\n",
    "training_plan_descriptions_columns = ['plan_id','plan_description','plan_length_weeks']\n",
    "\n",
    "\n",
    "sql_runners = generate_sql_inserts('Runners', runner_columns, runners)\n",
    "sql_events = generate_sql_inserts('Events', event_columns, events)\n",
    "sql_results = generate_sql_inserts('Results', result_columns, results)\n",
    "sql_sponsors = generate_sql_inserts('Sponsors', sponsor_columns, sponsors)\n",
    "sql_sponsored_athletes = generate_sql_inserts('Sponsored_Athletes', sponsored_athletes_columns, sponsored_athletes)\n",
    "sql_training_plans = generate_sql_inserts('Training_Plans', training_plan_columns, training_plans)\n",
    "sql_training_plan_descriptions_table = generate_sql_inserts('Training_Plans_Descriptions', training_plan_descriptions_columns,training_plan_descriptions_table)\n"
   ]
  },
  {
   "cell_type": "code",
   "execution_count": null,
   "id": "7545d9e4-4d13-4cd9-888f-c469b24cb526",
   "metadata": {},
   "outputs": [],
   "source": [
    "print(sql_runners)"
   ]
  },
  {
   "cell_type": "code",
   "execution_count": null,
   "id": "b3b01ba0-1398-44ae-ab3c-9b01eb37e38a",
   "metadata": {},
   "outputs": [],
   "source": [
    "# Combine all SQL scripts\n",
    "sql_script = sql_runners + sql_events + sql_results + sql_sponsors + sql_training_plans + sql_sponsored_athletes + sql_training_plan_descriptions_table\n"
   ]
  },
  {
   "cell_type": "code",
   "execution_count": null,
   "id": "ae0a5e30-5b8a-4a2f-95e5-978958f4cc66",
   "metadata": {},
   "outputs": [],
   "source": [
    "print(sql_script)"
   ]
  },
  {
   "cell_type": "code",
   "execution_count": null,
   "id": "ee137718-e28f-4983-9d4a-f68a6e6c3492",
   "metadata": {},
   "outputs": [],
   "source": [
    "with open(\"create_Marathon_results_database.sql\", \"w\") as file:\n",
    "    file.write(sql_script)"
   ]
  },
  {
   "cell_type": "code",
   "execution_count": null,
   "id": "48282460-c148-4dd0-a63a-ec98a9107c97",
   "metadata": {},
   "outputs": [],
   "source": []
  }
 ],
 "metadata": {
  "kernelspec": {
   "display_name": "Python 3 (ipykernel)",
   "language": "python",
   "name": "python3"
  },
  "language_info": {
   "codemirror_mode": {
    "name": "ipython",
    "version": 3
   },
   "file_extension": ".py",
   "mimetype": "text/x-python",
   "name": "python",
   "nbconvert_exporter": "python",
   "pygments_lexer": "ipython3",
   "version": "3.12.4"
  }
 },
 "nbformat": 4,
 "nbformat_minor": 5
}
